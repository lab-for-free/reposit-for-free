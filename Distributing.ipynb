{
  "nbformat": 4,
  "nbformat_minor": 0,
  "metadata": {
    "colab": {
      "name": "Distributing",
      "private_outputs": true,
      "provenance": [],
      "collapsed_sections": [],
      "authorship_tag": "ABX9TyPLxSn9e0QRi9BtIc20FhD2",
      "include_colab_link": true
    },
    "kernelspec": {
      "name": "python3",
      "display_name": "Python 3"
    },
    "language_info": {
      "name": "python"
    },
    "accelerator": "GPU"
  },
  "cells": [
    {
      "cell_type": "markdown",
      "metadata": {
        "id": "view-in-github",
        "colab_type": "text"
      },
      "source": [
        "<a href=\"https://colab.research.google.com/github/lab-for-free/reposit-for-free/blob/master/Distributing.ipynb\" target=\"_parent\"><img src=\"https://colab.research.google.com/assets/colab-badge.svg\" alt=\"Open In Colab\"/></a>"
      ]
    },
    {
      "cell_type": "code",
      "metadata": {
        "id": "Dg_ip3xNPR4U"
      },
      "source": [
        "# cuda 버전확인\n",
        "!/usr/local/cuda/bin/nvcc --version"
      ],
      "execution_count": null,
      "outputs": []
    },
    {
      "cell_type": "code",
      "metadata": {
        "id": "w_gyT_H9RUl-"
      },
      "source": [
        "!nvcc --version"
      ],
      "execution_count": null,
      "outputs": []
    },
    {
      "cell_type": "code",
      "metadata": {
        "id": "n-hdQOkvHvaQ"
      },
      "source": [
        "!nvcc --version\n",
        "print(\"- - - - - - - - - - nvidia-smi - - - - - - - - - - -\")\n",
        "!nvidia-smi"
      ],
      "execution_count": null,
      "outputs": []
    },
    {
      "cell_type": "code",
      "metadata": {
        "id": "MN9Rv9o-RUpV"
      },
      "source": [
        "import torch\n",
        "import matplotlib.pyplot as plt\n",
        "from PIL import Image"
      ],
      "execution_count": null,
      "outputs": []
    },
    {
      "cell_type": "code",
      "metadata": {
        "id": "xQatu2ZLRUsF"
      },
      "source": [
        "# cudnn 버전 확인\n",
        "!cat /usr/include/x86_64-linux-gnu/cudnn_v*.h | grep CUDNN_MAJOR -A 2"
      ],
      "execution_count": null,
      "outputs": []
    },
    {
      "cell_type": "code",
      "metadata": {
        "id": "4nCAckY5RUuc"
      },
      "source": [
        "print(torch.version.cuda)\n",
        "print(torch.backends.cudnn.version())"
      ],
      "execution_count": null,
      "outputs": []
    },
    {
      "cell_type": "code",
      "metadata": {
        "id": "icOGBgNIRUws"
      },
      "source": [
        "pip install tensorflow==2.0"
      ],
      "execution_count": null,
      "outputs": []
    },
    {
      "cell_type": "code",
      "metadata": {
        "id": "Zu8k2pPHRUy2"
      },
      "source": [
        "import tensorflow"
      ],
      "execution_count": null,
      "outputs": []
    },
    {
      "cell_type": "code",
      "metadata": {
        "id": "bt6olLdRRU1E"
      },
      "source": [
        "from google.colab import drive\n",
        "drive.mount('/content/drive')"
      ],
      "execution_count": null,
      "outputs": []
    },
    {
      "cell_type": "code",
      "metadata": {
        "id": "GGI3NFAxSjNF"
      },
      "source": [
        ""
      ],
      "execution_count": null,
      "outputs": []
    },
    {
      "cell_type": "code",
      "metadata": {
        "id": "4Pel88LrRU3c"
      },
      "source": [
        "!git clone 'https://github.com/AlexeyAB/darknet.git' '/content/drive/MyDrive/yolo_custom_model_Training/darknet'"
      ],
      "execution_count": null,
      "outputs": []
    },
    {
      "cell_type": "code",
      "metadata": {
        "id": "jILMyay3RU51"
      },
      "source": [
        "!ls '/content/drive/MyDrive/yolo_custom_model_Training/darknet'"
      ],
      "execution_count": null,
      "outputs": []
    },
    {
      "cell_type": "code",
      "metadata": {
        "id": "26VqORoGRU8F"
      },
      "source": [
        "!unzip \"/content/drive/MyDrive/Colab Notebooks/416version/darknet.zip\" -d \"/content/darknet\""
      ],
      "execution_count": null,
      "outputs": []
    },
    {
      "cell_type": "code",
      "metadata": {
        "id": "AZUSIHQVRU-M"
      },
      "source": [
        "%cd /content/darknet\n",
        "\n",
        "!sed -i 's/OPENCV=0/OPENCV=1/' Makefile\n",
        "!sed -i 's/GPU=0/GPU=1/' Makefile\n",
        "!sed -i 's/CUDNN=0/CUDNN=1/' Makefile\n",
        "!sed -i 's/CUDNN_HALF=0/CUDNN_HALF=1/' Makefile\n",
        "!sed -i 's/LIBSO=0/LIBSO=1' Makefile"
      ],
      "execution_count": null,
      "outputs": []
    },
    {
      "cell_type": "code",
      "metadata": {
        "id": "CCL1U13SRVAl"
      },
      "source": [
        "!make # 다크넷 컴파일\n",
        "!chmod +x ./darknet # 다크넷 권한변경"
      ],
      "execution_count": null,
      "outputs": []
    },
    {
      "cell_type": "code",
      "metadata": {
        "id": "257RA3mgRVC8"
      },
      "source": [
        "# 컴파일한 다크넷 복사\n",
        "%cd /content/darknet\n",
        "!wget https://github.com/AlexeyAB/darknet/releases/download/darknet_yolo_v4_pre/yolov4-tiny.conv.29"
      ],
      "execution_count": null,
      "outputs": []
    },
    {
      "cell_type": "code",
      "metadata": {
        "id": "sKdDhEaBRVFM"
      },
      "source": [
        "!wget https://github.com/AlexeyAB/darknet/releases/download/darknet_yolo_v3_optimal/yolov4.weights"
      ],
      "execution_count": null,
      "outputs": []
    },
    {
      "cell_type": "code",
      "metadata": {
        "id": "AIaJ-fPVRVHk"
      },
      "source": [
        "!/content/darknet detector"
      ],
      "execution_count": null,
      "outputs": []
    },
    {
      "cell_type": "code",
      "metadata": {
        "id": "eQgxzw2nRVKG"
      },
      "source": [
        "!rm -rf /content/darknet/backup\n",
        "!ln -s /content/drive/MyDrive/YOLOv4-tiny/backup /content/darknet"
      ],
      "execution_count": null,
      "outputs": []
    },
    {
      "cell_type": "code",
      "metadata": {
        "id": "ez_qEHzoRVMd"
      },
      "source": [
        "# darknet내의 train 데이터 검사하기\n",
        "!rm -rf /content/darknet/backup\n",
        "!ln -s /content/drive/MyDrive/YOLOv4-tiny/backup /content/darknet\n",
        "\n",
        "!sudo apt install dos2unix\n",
        "\n",
        "!dos2unix ./data/list/train.txt\n",
        "!dos2unix ./data/list/valid.txt\n",
        "!dos2unix ./data/list/test.txt\n",
        "!dos2unix ./data/tomato.names\n",
        "!dos2unix ./data/tomato.data\n",
        "!dos2unix ./cfg/yolov4-tomato.cfg"
      ],
      "execution_count": null,
      "outputs": []
    },
    {
      "cell_type": "code",
      "metadata": {
        "id": "LqRNd08rReD1"
      },
      "source": [
        "import os"
      ],
      "execution_count": null,
      "outputs": []
    },
    {
      "cell_type": "code",
      "metadata": {
        "id": "N3-7QvUQReLp"
      },
      "source": [
        "dir='/content/darknet/data/images/'"
      ],
      "execution_count": null,
      "outputs": []
    },
    {
      "cell_type": "code",
      "metadata": {
        "id": "Sj5YHgkoReMY"
      },
      "source": [
        "# fnames=os.listdir(dir)"
      ],
      "execution_count": null,
      "outputs": []
    },
    {
      "cell_type": "code",
      "metadata": {
        "id": "1OG5gQrvReNC"
      },
      "source": [
        "# fnames"
      ],
      "execution_count": null,
      "outputs": []
    },
    {
      "cell_type": "code",
      "metadata": {
        "id": "MzkqT_jvReNc"
      },
      "source": [
        "# fnames[0]"
      ],
      "execution_count": null,
      "outputs": []
    },
    {
      "cell_type": "code",
      "metadata": {
        "id": "g29-RwkPReOH"
      },
      "source": [
        "# path=os.path.join(dir, fnames[0])"
      ],
      "execution_count": null,
      "outputs": []
    },
    {
      "cell_type": "code",
      "metadata": {
        "id": "9WS_lImuReOk"
      },
      "source": [
        "# Image.open(path)"
      ],
      "execution_count": null,
      "outputs": []
    },
    {
      "cell_type": "code",
      "metadata": {
        "id": "Wq870QG8ReO_"
      },
      "source": [
        "def imShow(path): \n",
        "  import cv2 \n",
        "  import matplotlib.pyplot as plt\n",
        "  %matplotlib inline\n",
        "\n",
        "  image = cv2.imread(path)\n",
        "  height, width = image.shape[:2]\n",
        "  resized_image = cv2.resize(image, (3*width, 3*height), interpolation = cv2.INTER_CUBIC)\n",
        "\n",
        "  fig = plt.gcf()\n",
        "  fig.set_size_inches(18, 10)\n",
        "  plt.axis(\"off\")\n",
        "  plt.imshow(cv2.cvtColor(resized_image, cv2.COLOR_BGR2RGB))\n",
        "  plt.show()\n",
        "\n",
        "def upload():\n",
        "  from google.colab import files\n",
        "  uploaded = files.upload()\n",
        "  for name, data in uploaded.items():\n",
        "    with open(name, 'wb') as f:\n",
        "      f.write(data)\n",
        "      print('saved file', name)\n",
        "def download(path):\n",
        "  from google.colab import files\n",
        "  files.download(path)"
      ],
      "execution_count": null,
      "outputs": []
    },
    {
      "cell_type": "code",
      "metadata": {
        "id": "zK0DX4y8RePZ"
      },
      "source": [
        "%cd /content/darknet/\n",
        "\n",
        "!wget https://github.com/AlexeyAB/darknet/releases/download/darknet_yolo_v4_pre/yolov4-tiny.conv.29"
      ],
      "execution_count": null,
      "outputs": []
    },
    {
      "cell_type": "code",
      "metadata": {
        "id": "4FBfAE5cReP_"
      },
      "source": [
        "!sudo xhost +"
      ],
      "execution_count": null,
      "outputs": []
    },
    {
      "cell_type": "code",
      "metadata": {
        "id": "RfONF8-AReQe"
      },
      "source": [
        ""
      ],
      "execution_count": null,
      "outputs": []
    },
    {
      "cell_type": "code",
      "metadata": {
        "id": "b9pzojFlReQ9"
      },
      "source": [
        ""
      ],
      "execution_count": null,
      "outputs": []
    },
    {
      "cell_type": "code",
      "metadata": {
        "id": "U4d7BjKHMdWi"
      },
      "source": [
        "# !tee train.log"
      ],
      "execution_count": null,
      "outputs": []
    },
    {
      "cell_type": "code",
      "metadata": {
        "id": "XbmNkDSyReRf"
      },
      "source": [
        "# 첫 훈련\n",
        "# %cd /content/darknet\n",
        "\n",
        "# !time ./darknet detector train data/tomato.data cfg/yolov4-tomato.cfg yolov4-tiny.conv.29 -dont_show -map | tee train.log\n",
        "\n",
        "# !cp -r /content/darknet/train.log /content/drive/MyDrive/YOLOv4-tiny/backup/"
      ],
      "execution_count": null,
      "outputs": []
    },
    {
      "cell_type": "code",
      "metadata": {
        "id": "RUY2TobLReSa"
      },
      "source": [
        "!time /content/darknet/darknet detector test /content/darknet/data/tomato.data /content/darknet/cfg/yolov4-tomato.cfg /content/drive/MyDrive/YOLOv4-tiny/2021_11_30/yolov4-tomato_last.weights -dont_show -ext_output <data/list/test.txt> result_v4.txt \n",
        "download('result_v4.txt')\n",
        "\n",
        "# !time ./darknet detector train data/coco.data cfg/yolov4-tomato.cfg yolov4-tiny.conv.29 -dont_show -map | tee train.log"
      ],
      "execution_count": null,
      "outputs": []
    },
    {
      "cell_type": "code",
      "metadata": {
        "id": "KSZS3636Relt"
      },
      "source": [
        "import matplotlib.pyplot as plt\n",
        "from PIL import Image"
      ],
      "execution_count": null,
      "outputs": []
    },
    {
      "cell_type": "code",
      "metadata": {
        "id": "OehuwwCeReuL"
      },
      "source": [
        "!time /content/darknet/darknet detector test /content/darknet/data/tomato.data /content/darknet/cfg/yolov4-tomato.cfg /content/drive/MyDrive/YOLOv4-tiny/2021_11_30/yolov4-tomato_last.weights\n",
        "imShow('predictions.jpg')\n",
        "\n",
        "# darknet.exe detector test data/tomato.data cfg/yolov4-tomato.cfg backup/yolov4-tomato_last.weights"
      ],
      "execution_count": null,
      "outputs": []
    },
    {
      "cell_type": "code",
      "metadata": {
        "id": "bhMPXE3XRevM"
      },
      "source": [
        "# /content/darknet/data/images/Early_blight_264_JPG.rf.36bda4dfc9970f14fd5513de9d78544f.jpg\n",
        "\n",
        "# /content/darknet/data/images/00694db7-3327-45e0-b4da-a8bb7ab6a4b7___Crnl_L-Mold-6923_JPG.rf.4a115957ab5ab6b79865a93868f296bb.jpg"
      ],
      "execution_count": null,
      "outputs": []
    },
    {
      "cell_type": "code",
      "metadata": {
        "id": "asCBHJQ3Reux"
      },
      "source": [
        "# Retraining\n",
        "!time  /content/darknet/darknet detector train /content/darknet/data/tomato.data /content/darknet/cfg/yolov4-tomato.cfg  /content/drive/MyDrive/YOLOv4-tiny/2021_11_30/yolov4-tomato_last.weights -dont_show -map | tee train.log\n",
        "\n",
        "!cp -r /content/darknet/train.log /content/drive/MyDrive/YOLOv4-tiny/backup/"
      ],
      "execution_count": null,
      "outputs": []
    },
    {
      "cell_type": "code",
      "metadata": {
        "id": "7r97t_YWRetr"
      },
      "source": [
        "imShow('chart.png')"
      ],
      "execution_count": null,
      "outputs": []
    },
    {
      "cell_type": "code",
      "metadata": {
        "id": "u1LlJw-7RsFx"
      },
      "source": [
        ""
      ],
      "execution_count": null,
      "outputs": []
    },
    {
      "cell_type": "code",
      "metadata": {
        "id": "JOPwMlmRRsGh"
      },
      "source": [
        ""
      ],
      "execution_count": null,
      "outputs": []
    },
    {
      "cell_type": "code",
      "metadata": {
        "id": "4Arie3noRsG-"
      },
      "source": [
        ""
      ],
      "execution_count": null,
      "outputs": []
    },
    {
      "cell_type": "code",
      "metadata": {
        "id": "btFdWpFfRsHb"
      },
      "source": [
        ""
      ],
      "execution_count": null,
      "outputs": []
    },
    {
      "cell_type": "code",
      "metadata": {
        "id": "BotDY6wsRsH4"
      },
      "source": [
        ""
      ],
      "execution_count": null,
      "outputs": []
    },
    {
      "cell_type": "code",
      "metadata": {
        "id": "W-qYizflRsIU"
      },
      "source": [
        ""
      ],
      "execution_count": null,
      "outputs": []
    },
    {
      "cell_type": "code",
      "metadata": {
        "id": "5f-667m7RsI2"
      },
      "source": [
        ""
      ],
      "execution_count": null,
      "outputs": []
    }
  ]
}